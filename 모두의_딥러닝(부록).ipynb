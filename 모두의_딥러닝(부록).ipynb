{
  "nbformat": 4,
  "nbformat_minor": 0,
  "metadata": {
    "colab": {
      "provenance": [],
      "authorship_tag": "ABX9TyNeW7tL+XMeHknzvp+9WVVy",
      "include_colab_link": true
    },
    "kernelspec": {
      "name": "python3",
      "display_name": "Python 3"
    },
    "language_info": {
      "name": "python"
    }
  },
  "cells": [
    {
      "cell_type": "markdown",
      "metadata": {
        "id": "view-in-github",
        "colab_type": "text"
      },
      "source": [
        "<a href=\"https://colab.research.google.com/github/kiyuyeon/Ml_Dl/blob/master/%EB%AA%A8%EB%91%90%EC%9D%98_%EB%94%A5%EB%9F%AC%EB%8B%9D(%EB%B6%80%EB%A1%9D).ipynb\" target=\"_parent\"><img src=\"https://colab.research.google.com/assets/colab-badge.svg\" alt=\"Open In Colab\"/></a>"
      ]
    },
    {
      "cell_type": "code",
      "execution_count": 22,
      "metadata": {
        "colab": {
          "base_uri": "https://localhost:8080/"
        },
        "id": "WEHuqvma4zgL",
        "outputId": "1ec9d31e-3cb7-432f-9da8-b00d990ae53c"
      },
      "outputs": [
        {
          "output_type": "stream",
          "name": "stdout",
          "text": [
            "fatal: destination path 'data' already exists and is not an empty directory.\n"
          ]
        }
      ],
      "source": [
        "from sklearn.model_selection import train_test_split,cross_val_score,StratifiedKFold\n",
        "from matplotlib import pyplot\n",
        "from sklearn.preprocessing import StandardScaler\n",
        "import pandas as pd\n",
        "import matplotlib.pyplot as plt\n",
        "\n",
        "!git clone https://github.com/taehojo/data.git\n",
        "\n",
        "df = pd.read_csv('./data/pima-indians-diabetes3.csv')"
      ]
    },
    {
      "cell_type": "code",
      "source": [
        "df.head()"
      ],
      "metadata": {
        "colab": {
          "base_uri": "https://localhost:8080/",
          "height": 206
        },
        "id": "LQPahcoh7lZH",
        "outputId": "daeea14c-52db-49c3-8cfd-09fbd4c49520"
      },
      "execution_count": 23,
      "outputs": [
        {
          "output_type": "execute_result",
          "data": {
            "text/plain": [
              "   pregnant  plasma  pressure  thickness  insulin   bmi  pedigree  age  \\\n",
              "0         6     148        72         35        0  33.6     0.627   50   \n",
              "1         1      85        66         29        0  26.6     0.351   31   \n",
              "2         8     183        64          0        0  23.3     0.672   32   \n",
              "3         1      89        66         23       94  28.1     0.167   21   \n",
              "4         0     137        40         35      168  43.1     2.288   33   \n",
              "\n",
              "   diabetes  \n",
              "0         1  \n",
              "1         0  \n",
              "2         1  \n",
              "3         0  \n",
              "4         1  "
            ],
            "text/html": [
              "\n",
              "  <div id=\"df-1df33a08-006a-43ae-8342-d67c40d415f1\">\n",
              "    <div class=\"colab-df-container\">\n",
              "      <div>\n",
              "<style scoped>\n",
              "    .dataframe tbody tr th:only-of-type {\n",
              "        vertical-align: middle;\n",
              "    }\n",
              "\n",
              "    .dataframe tbody tr th {\n",
              "        vertical-align: top;\n",
              "    }\n",
              "\n",
              "    .dataframe thead th {\n",
              "        text-align: right;\n",
              "    }\n",
              "</style>\n",
              "<table border=\"1\" class=\"dataframe\">\n",
              "  <thead>\n",
              "    <tr style=\"text-align: right;\">\n",
              "      <th></th>\n",
              "      <th>pregnant</th>\n",
              "      <th>plasma</th>\n",
              "      <th>pressure</th>\n",
              "      <th>thickness</th>\n",
              "      <th>insulin</th>\n",
              "      <th>bmi</th>\n",
              "      <th>pedigree</th>\n",
              "      <th>age</th>\n",
              "      <th>diabetes</th>\n",
              "    </tr>\n",
              "  </thead>\n",
              "  <tbody>\n",
              "    <tr>\n",
              "      <th>0</th>\n",
              "      <td>6</td>\n",
              "      <td>148</td>\n",
              "      <td>72</td>\n",
              "      <td>35</td>\n",
              "      <td>0</td>\n",
              "      <td>33.6</td>\n",
              "      <td>0.627</td>\n",
              "      <td>50</td>\n",
              "      <td>1</td>\n",
              "    </tr>\n",
              "    <tr>\n",
              "      <th>1</th>\n",
              "      <td>1</td>\n",
              "      <td>85</td>\n",
              "      <td>66</td>\n",
              "      <td>29</td>\n",
              "      <td>0</td>\n",
              "      <td>26.6</td>\n",
              "      <td>0.351</td>\n",
              "      <td>31</td>\n",
              "      <td>0</td>\n",
              "    </tr>\n",
              "    <tr>\n",
              "      <th>2</th>\n",
              "      <td>8</td>\n",
              "      <td>183</td>\n",
              "      <td>64</td>\n",
              "      <td>0</td>\n",
              "      <td>0</td>\n",
              "      <td>23.3</td>\n",
              "      <td>0.672</td>\n",
              "      <td>32</td>\n",
              "      <td>1</td>\n",
              "    </tr>\n",
              "    <tr>\n",
              "      <th>3</th>\n",
              "      <td>1</td>\n",
              "      <td>89</td>\n",
              "      <td>66</td>\n",
              "      <td>23</td>\n",
              "      <td>94</td>\n",
              "      <td>28.1</td>\n",
              "      <td>0.167</td>\n",
              "      <td>21</td>\n",
              "      <td>0</td>\n",
              "    </tr>\n",
              "    <tr>\n",
              "      <th>4</th>\n",
              "      <td>0</td>\n",
              "      <td>137</td>\n",
              "      <td>40</td>\n",
              "      <td>35</td>\n",
              "      <td>168</td>\n",
              "      <td>43.1</td>\n",
              "      <td>2.288</td>\n",
              "      <td>33</td>\n",
              "      <td>1</td>\n",
              "    </tr>\n",
              "  </tbody>\n",
              "</table>\n",
              "</div>\n",
              "      <button class=\"colab-df-convert\" onclick=\"convertToInteractive('df-1df33a08-006a-43ae-8342-d67c40d415f1')\"\n",
              "              title=\"Convert this dataframe to an interactive table.\"\n",
              "              style=\"display:none;\">\n",
              "        \n",
              "  <svg xmlns=\"http://www.w3.org/2000/svg\" height=\"24px\"viewBox=\"0 0 24 24\"\n",
              "       width=\"24px\">\n",
              "    <path d=\"M0 0h24v24H0V0z\" fill=\"none\"/>\n",
              "    <path d=\"M18.56 5.44l.94 2.06.94-2.06 2.06-.94-2.06-.94-.94-2.06-.94 2.06-2.06.94zm-11 1L8.5 8.5l.94-2.06 2.06-.94-2.06-.94L8.5 2.5l-.94 2.06-2.06.94zm10 10l.94 2.06.94-2.06 2.06-.94-2.06-.94-.94-2.06-.94 2.06-2.06.94z\"/><path d=\"M17.41 7.96l-1.37-1.37c-.4-.4-.92-.59-1.43-.59-.52 0-1.04.2-1.43.59L10.3 9.45l-7.72 7.72c-.78.78-.78 2.05 0 2.83L4 21.41c.39.39.9.59 1.41.59.51 0 1.02-.2 1.41-.59l7.78-7.78 2.81-2.81c.8-.78.8-2.07 0-2.86zM5.41 20L4 18.59l7.72-7.72 1.47 1.35L5.41 20z\"/>\n",
              "  </svg>\n",
              "      </button>\n",
              "      \n",
              "  <style>\n",
              "    .colab-df-container {\n",
              "      display:flex;\n",
              "      flex-wrap:wrap;\n",
              "      gap: 12px;\n",
              "    }\n",
              "\n",
              "    .colab-df-convert {\n",
              "      background-color: #E8F0FE;\n",
              "      border: none;\n",
              "      border-radius: 50%;\n",
              "      cursor: pointer;\n",
              "      display: none;\n",
              "      fill: #1967D2;\n",
              "      height: 32px;\n",
              "      padding: 0 0 0 0;\n",
              "      width: 32px;\n",
              "    }\n",
              "\n",
              "    .colab-df-convert:hover {\n",
              "      background-color: #E2EBFA;\n",
              "      box-shadow: 0px 1px 2px rgba(60, 64, 67, 0.3), 0px 1px 3px 1px rgba(60, 64, 67, 0.15);\n",
              "      fill: #174EA6;\n",
              "    }\n",
              "\n",
              "    [theme=dark] .colab-df-convert {\n",
              "      background-color: #3B4455;\n",
              "      fill: #D2E3FC;\n",
              "    }\n",
              "\n",
              "    [theme=dark] .colab-df-convert:hover {\n",
              "      background-color: #434B5C;\n",
              "      box-shadow: 0px 1px 3px 1px rgba(0, 0, 0, 0.15);\n",
              "      filter: drop-shadow(0px 1px 2px rgba(0, 0, 0, 0.3));\n",
              "      fill: #FFFFFF;\n",
              "    }\n",
              "  </style>\n",
              "\n",
              "      <script>\n",
              "        const buttonEl =\n",
              "          document.querySelector('#df-1df33a08-006a-43ae-8342-d67c40d415f1 button.colab-df-convert');\n",
              "        buttonEl.style.display =\n",
              "          google.colab.kernel.accessAllowed ? 'block' : 'none';\n",
              "\n",
              "        async function convertToInteractive(key) {\n",
              "          const element = document.querySelector('#df-1df33a08-006a-43ae-8342-d67c40d415f1');\n",
              "          const dataTable =\n",
              "            await google.colab.kernel.invokeFunction('convertToInteractive',\n",
              "                                                     [key], {});\n",
              "          if (!dataTable) return;\n",
              "\n",
              "          const docLinkHtml = 'Like what you see? Visit the ' +\n",
              "            '<a target=\"_blank\" href=https://colab.research.google.com/notebooks/data_table.ipynb>data table notebook</a>'\n",
              "            + ' to learn more about interactive tables.';\n",
              "          element.innerHTML = '';\n",
              "          dataTable['output_type'] = 'display_data';\n",
              "          await google.colab.output.renderOutput(dataTable, element);\n",
              "          const docLink = document.createElement('div');\n",
              "          docLink.innerHTML = docLinkHtml;\n",
              "          element.appendChild(docLink);\n",
              "        }\n",
              "      </script>\n",
              "    </div>\n",
              "  </div>\n",
              "  "
            ]
          },
          "metadata": {},
          "execution_count": 23
        }
      ]
    },
    {
      "cell_type": "code",
      "source": [
        "print(X.head())\n",
        "print(y.head())"
      ],
      "metadata": {
        "colab": {
          "base_uri": "https://localhost:8080/"
        },
        "id": "oU6nepit8Szh",
        "outputId": "4a6d15d6-783c-4f40-fd9a-baabbeebe03b"
      },
      "execution_count": 24,
      "outputs": [
        {
          "output_type": "stream",
          "name": "stdout",
          "text": [
            "   pregnant  plasma  pressure  thickness  insulin   bmi  pedigree  age\n",
            "0         6     148        72         35        0  33.6     0.627   50\n",
            "1         1      85        66         29        0  26.6     0.351   31\n",
            "2         8     183        64          0        0  23.3     0.672   32\n",
            "3         1      89        66         23       94  28.1     0.167   21\n",
            "4         0     137        40         35      168  43.1     2.288   33\n",
            "0    1\n",
            "1    0\n",
            "2    1\n",
            "3    0\n",
            "4    1\n",
            "Name: diabetes, dtype: int64\n"
          ]
        }
      ]
    },
    {
      "cell_type": "code",
      "source": [
        "X = df.iloc[:,0:8]\n",
        "y=df.iloc[:,8]\n",
        "\n",
        "ss = StandardScaler()\n",
        "scaled_X = pd.DataFrame(ss.fit_transform(X),columns=X.columns)\n",
        "scaled_X.head()"
      ],
      "metadata": {
        "colab": {
          "base_uri": "https://localhost:8080/",
          "height": 206
        },
        "id": "RAZVcG_U7EEa",
        "outputId": "a4df15e7-3fe5-4e49-82a2-847baec71e62"
      },
      "execution_count": 25,
      "outputs": [
        {
          "output_type": "execute_result",
          "data": {
            "text/plain": [
              "   pregnant    plasma  pressure  thickness   insulin       bmi  pedigree  \\\n",
              "0  0.639947  0.848324  0.149641   0.907270 -0.692891  0.204013  0.468492   \n",
              "1 -0.844885 -1.123396 -0.160546   0.530902 -0.692891 -0.684422 -0.365061   \n",
              "2  1.233880  1.943724 -0.263941  -1.288212 -0.692891 -1.103255  0.604397   \n",
              "3 -0.844885 -0.998208 -0.160546   0.154533  0.123302 -0.494043 -0.920763   \n",
              "4 -1.141852  0.504055 -1.504687   0.907270  0.765836  1.409746  5.484909   \n",
              "\n",
              "        age  \n",
              "0  1.425995  \n",
              "1 -0.190672  \n",
              "2 -0.105584  \n",
              "3 -1.041549  \n",
              "4 -0.020496  "
            ],
            "text/html": [
              "\n",
              "  <div id=\"df-15628698-db2f-4ca3-9c69-7d01b0e14521\">\n",
              "    <div class=\"colab-df-container\">\n",
              "      <div>\n",
              "<style scoped>\n",
              "    .dataframe tbody tr th:only-of-type {\n",
              "        vertical-align: middle;\n",
              "    }\n",
              "\n",
              "    .dataframe tbody tr th {\n",
              "        vertical-align: top;\n",
              "    }\n",
              "\n",
              "    .dataframe thead th {\n",
              "        text-align: right;\n",
              "    }\n",
              "</style>\n",
              "<table border=\"1\" class=\"dataframe\">\n",
              "  <thead>\n",
              "    <tr style=\"text-align: right;\">\n",
              "      <th></th>\n",
              "      <th>pregnant</th>\n",
              "      <th>plasma</th>\n",
              "      <th>pressure</th>\n",
              "      <th>thickness</th>\n",
              "      <th>insulin</th>\n",
              "      <th>bmi</th>\n",
              "      <th>pedigree</th>\n",
              "      <th>age</th>\n",
              "    </tr>\n",
              "  </thead>\n",
              "  <tbody>\n",
              "    <tr>\n",
              "      <th>0</th>\n",
              "      <td>0.639947</td>\n",
              "      <td>0.848324</td>\n",
              "      <td>0.149641</td>\n",
              "      <td>0.907270</td>\n",
              "      <td>-0.692891</td>\n",
              "      <td>0.204013</td>\n",
              "      <td>0.468492</td>\n",
              "      <td>1.425995</td>\n",
              "    </tr>\n",
              "    <tr>\n",
              "      <th>1</th>\n",
              "      <td>-0.844885</td>\n",
              "      <td>-1.123396</td>\n",
              "      <td>-0.160546</td>\n",
              "      <td>0.530902</td>\n",
              "      <td>-0.692891</td>\n",
              "      <td>-0.684422</td>\n",
              "      <td>-0.365061</td>\n",
              "      <td>-0.190672</td>\n",
              "    </tr>\n",
              "    <tr>\n",
              "      <th>2</th>\n",
              "      <td>1.233880</td>\n",
              "      <td>1.943724</td>\n",
              "      <td>-0.263941</td>\n",
              "      <td>-1.288212</td>\n",
              "      <td>-0.692891</td>\n",
              "      <td>-1.103255</td>\n",
              "      <td>0.604397</td>\n",
              "      <td>-0.105584</td>\n",
              "    </tr>\n",
              "    <tr>\n",
              "      <th>3</th>\n",
              "      <td>-0.844885</td>\n",
              "      <td>-0.998208</td>\n",
              "      <td>-0.160546</td>\n",
              "      <td>0.154533</td>\n",
              "      <td>0.123302</td>\n",
              "      <td>-0.494043</td>\n",
              "      <td>-0.920763</td>\n",
              "      <td>-1.041549</td>\n",
              "    </tr>\n",
              "    <tr>\n",
              "      <th>4</th>\n",
              "      <td>-1.141852</td>\n",
              "      <td>0.504055</td>\n",
              "      <td>-1.504687</td>\n",
              "      <td>0.907270</td>\n",
              "      <td>0.765836</td>\n",
              "      <td>1.409746</td>\n",
              "      <td>5.484909</td>\n",
              "      <td>-0.020496</td>\n",
              "    </tr>\n",
              "  </tbody>\n",
              "</table>\n",
              "</div>\n",
              "      <button class=\"colab-df-convert\" onclick=\"convertToInteractive('df-15628698-db2f-4ca3-9c69-7d01b0e14521')\"\n",
              "              title=\"Convert this dataframe to an interactive table.\"\n",
              "              style=\"display:none;\">\n",
              "        \n",
              "  <svg xmlns=\"http://www.w3.org/2000/svg\" height=\"24px\"viewBox=\"0 0 24 24\"\n",
              "       width=\"24px\">\n",
              "    <path d=\"M0 0h24v24H0V0z\" fill=\"none\"/>\n",
              "    <path d=\"M18.56 5.44l.94 2.06.94-2.06 2.06-.94-2.06-.94-.94-2.06-.94 2.06-2.06.94zm-11 1L8.5 8.5l.94-2.06 2.06-.94-2.06-.94L8.5 2.5l-.94 2.06-2.06.94zm10 10l.94 2.06.94-2.06 2.06-.94-2.06-.94-.94-2.06-.94 2.06-2.06.94z\"/><path d=\"M17.41 7.96l-1.37-1.37c-.4-.4-.92-.59-1.43-.59-.52 0-1.04.2-1.43.59L10.3 9.45l-7.72 7.72c-.78.78-.78 2.05 0 2.83L4 21.41c.39.39.9.59 1.41.59.51 0 1.02-.2 1.41-.59l7.78-7.78 2.81-2.81c.8-.78.8-2.07 0-2.86zM5.41 20L4 18.59l7.72-7.72 1.47 1.35L5.41 20z\"/>\n",
              "  </svg>\n",
              "      </button>\n",
              "      \n",
              "  <style>\n",
              "    .colab-df-container {\n",
              "      display:flex;\n",
              "      flex-wrap:wrap;\n",
              "      gap: 12px;\n",
              "    }\n",
              "\n",
              "    .colab-df-convert {\n",
              "      background-color: #E8F0FE;\n",
              "      border: none;\n",
              "      border-radius: 50%;\n",
              "      cursor: pointer;\n",
              "      display: none;\n",
              "      fill: #1967D2;\n",
              "      height: 32px;\n",
              "      padding: 0 0 0 0;\n",
              "      width: 32px;\n",
              "    }\n",
              "\n",
              "    .colab-df-convert:hover {\n",
              "      background-color: #E2EBFA;\n",
              "      box-shadow: 0px 1px 2px rgba(60, 64, 67, 0.3), 0px 1px 3px 1px rgba(60, 64, 67, 0.15);\n",
              "      fill: #174EA6;\n",
              "    }\n",
              "\n",
              "    [theme=dark] .colab-df-convert {\n",
              "      background-color: #3B4455;\n",
              "      fill: #D2E3FC;\n",
              "    }\n",
              "\n",
              "    [theme=dark] .colab-df-convert:hover {\n",
              "      background-color: #434B5C;\n",
              "      box-shadow: 0px 1px 3px 1px rgba(0, 0, 0, 0.15);\n",
              "      filter: drop-shadow(0px 1px 2px rgba(0, 0, 0, 0.3));\n",
              "      fill: #FFFFFF;\n",
              "    }\n",
              "  </style>\n",
              "\n",
              "      <script>\n",
              "        const buttonEl =\n",
              "          document.querySelector('#df-15628698-db2f-4ca3-9c69-7d01b0e14521 button.colab-df-convert');\n",
              "        buttonEl.style.display =\n",
              "          google.colab.kernel.accessAllowed ? 'block' : 'none';\n",
              "\n",
              "        async function convertToInteractive(key) {\n",
              "          const element = document.querySelector('#df-15628698-db2f-4ca3-9c69-7d01b0e14521');\n",
              "          const dataTable =\n",
              "            await google.colab.kernel.invokeFunction('convertToInteractive',\n",
              "                                                     [key], {});\n",
              "          if (!dataTable) return;\n",
              "\n",
              "          const docLinkHtml = 'Like what you see? Visit the ' +\n",
              "            '<a target=\"_blank\" href=https://colab.research.google.com/notebooks/data_table.ipynb>data table notebook</a>'\n",
              "            + ' to learn more about interactive tables.';\n",
              "          element.innerHTML = '';\n",
              "          dataTable['output_type'] = 'display_data';\n",
              "          await google.colab.output.renderOutput(dataTable, element);\n",
              "          const docLink = document.createElement('div');\n",
              "          docLink.innerHTML = docLinkHtml;\n",
              "          element.appendChild(docLink);\n",
              "        }\n",
              "      </script>\n",
              "    </div>\n",
              "  </div>\n",
              "  "
            ]
          },
          "metadata": {},
          "execution_count": 25
        }
      ]
    },
    {
      "cell_type": "code",
      "source": [
        "fig,ax = plt.subplots(1,2,figsize=(12,4))\n",
        "X.plot(kind='kde',title='Raw data',ax=ax[0])\n",
        "scaled_X.plot(kind='kde',title='StandarScaler',ax=ax[1])\n",
        "plt.show()\n",
        "\n",
        "X_train, X_test , y_train,y_test = train_test_split(scaled_X,y,test_size=0.25,random_state=0)"
      ],
      "metadata": {
        "colab": {
          "base_uri": "https://localhost:8080/",
          "height": 288
        },
        "id": "l6yCUdM78pJD",
        "outputId": "46f32ede-5154-4d9d-b33a-4d335b6daad8"
      },
      "execution_count": 26,
      "outputs": [
        {
          "output_type": "display_data",
          "data": {
            "text/plain": [
              "<Figure size 1200x400 with 2 Axes>"
            ],
            "image/png": "[encoded data removed]"
          },
          "metadata": {}
        }
      ]
    },
    {
      "cell_type": "markdown",
      "source": [
        "#Decision Tree"
      ],
      "metadata": {
        "id": "FqjUk7Dm-sv4"
      }
    },
    {
      "cell_type": "code",
      "source": [
        "from sklearn.tree import DecisionTreeClassifier\n",
        "\n",
        "classifier = DecisionTreeClassifier()\n",
        "classifier.fit(X_train,y_train)\n",
        "y_pred = classifier.predict(X_test)\n",
        "skf = StratifiedKFold(n_splits=10,shuffle=True)\n",
        "accuracies = cross_val_score(estimator=classifier,X=X_train,y=y_train,cv=skf)\n",
        "\n",
        "print(\"Accuracy : {:.2f} %\".format(accuracies.mean()*100))\n",
        "print(\"Standard Deviation : {:.2f} %\".format(accuracies.std()*100))\n"
      ],
      "metadata": {
        "colab": {
          "base_uri": "https://localhost:8080/"
        },
        "id": "Z_AwRx_g-580",
        "outputId": "e5ef0076-1451-4ec9-f7bd-17a2fd8a363b"
      },
      "execution_count": 27,
      "outputs": [
        {
          "output_type": "stream",
          "name": "stdout",
          "text": [
            "Accuracy : 66.99 %\n",
            "Standard Deviation : 4.74 %\n"
          ]
        }
      ]
    },
    {
      "cell_type": "markdown",
      "source": [
        "#Random Forest"
      ],
      "metadata": {
        "id": "uPj8K2JxVd5K"
      }
    },
    {
      "cell_type": "code",
      "source": [
        "from sklearn.ensemble import RandomForestClassifier\n",
        "\n",
        "classifier = RandomForestClassifier()\n",
        "classifier.fit(X_train,y_train)\n",
        "\n",
        "y_pred = classifier.predict(X_test)\n",
        "skf= StratifiedKFold(n_splits= 10,shuffle = True)\n",
        "accuracies = cross_val_score(estimator=classifier,X=X_train,y=y_train,cv=skf)\n",
        "\n",
        "print(\"Accuracy : {:.2f} %\".format(accuracies.mean()*100))\n",
        "print(\"Standard Deviation : {:.2f} %\".format(accuracies.std()*100))"
      ],
      "metadata": {
        "colab": {
          "base_uri": "https://localhost:8080/"
        },
        "id": "OdhBuQveAD7C",
        "outputId": "fb8feb95-2978-45a7-dbe2-7c34235212ab"
      },
      "execution_count": 28,
      "outputs": [
        {
          "output_type": "stream",
          "name": "stdout",
          "text": [
            "Accuracy : 74.27 %\n",
            "Standard Deviation : 6.39 %\n"
          ]
        }
      ]
    },
    {
      "cell_type": "markdown",
      "source": [
        "#Gaussian Naive Bayes"
      ],
      "metadata": {
        "id": "TvoSjKKLWNyj"
      }
    },
    {
      "cell_type": "code",
      "source": [
        "from sklearn.naive_bayes import GaussianNB\n",
        "\n",
        "classifier = GaussianNB()\n",
        "classifier.fit(X_train,y_train)\n",
        "\n",
        "y_pred = classifier.predict(X_test)\n",
        "skf= StratifiedKFold(n_splits= 10,shuffle = True)\n",
        "accuracies = cross_val_score(estimator=classifier,X=X_train,y=y_train,cv=skf)\n",
        "\n",
        "print(\"Accuracy : {:.2f} %\".format(accuracies.mean()*100))\n",
        "print(\"Standard Deviation : {:.2f} %\".format(accuracies.std()*100))"
      ],
      "metadata": {
        "colab": {
          "base_uri": "https://localhost:8080/"
        },
        "id": "LS5DokVWWK8h",
        "outputId": "6ee5f7df-f22a-4923-c1de-08d7bd897a57"
      },
      "execution_count": 29,
      "outputs": [
        {
          "output_type": "stream",
          "name": "stdout",
          "text": [
            "Accuracy : 75.53 %\n",
            "Standard Deviation : 3.62 %\n"
          ]
        }
      ]
    },
    {
      "cell_type": "markdown",
      "source": [
        "#K-bearest Neighbor"
      ],
      "metadata": {
        "id": "bwt1G7TtYckN"
      }
    },
    {
      "cell_type": "code",
      "source": [
        "from sklearn.neighbors import KNeighborsClassifier\n",
        "\n",
        "classifier = KNeighborsClassifier()\n",
        "classifier.fit(X_train,y_train)\n",
        "\n",
        "y_pred = classifier.predict(X_test)\n",
        "skf= StratifiedKFold(n_splits= 10,shuffle = True)\n",
        "accuracies = cross_val_score(estimator=classifier,X=X_train,y=y_train,cv=skf)\n",
        "\n",
        "print(\"Accuracy : {:.2f} %\".format(accuracies.mean()*100))\n",
        "print(\"Standard Deviation : {:.2f} %\".format(accuracies.std()*100))"
      ],
      "metadata": {
        "colab": {
          "base_uri": "https://localhost:8080/"
        },
        "id": "unEw-CpeYa7o",
        "outputId": "e1804051-127d-4602-f9d9-421a2cc2fb32"
      },
      "execution_count": 30,
      "outputs": [
        {
          "output_type": "stream",
          "name": "stdout",
          "text": [
            "Accuracy : 72.78 %\n",
            "Standard Deviation : 5.71 %\n"
          ]
        }
      ]
    },
    {
      "cell_type": "markdown",
      "source": [
        "#Ada Boost"
      ],
      "metadata": {
        "id": "sf2gy1Dlaj2m"
      }
    },
    {
      "cell_type": "code",
      "source": [
        "from sklearn.ensemble import AdaBoostClassifier\n",
        "classifier =AdaBoostClassifier()\n",
        "classifier.fit(X_train,y_train)\n",
        "\n",
        "y_pred = classifier.predict(X_test)\n",
        "skf = StratifiedKFold(n_splits = 10 , shuffle = True)\n",
        "accuracies = cross_val_score(estimator=classifier,X=X_train,y=y_train,cv=skf)\n",
        "print(\"Accuracy : {:.2f} %\".format(accuracies.mean()*100))\n",
        "print(\"Standard Deviation : {:.2f} %\".format(accuracies.std()*100))"
      ],
      "metadata": {
        "colab": {
          "base_uri": "https://localhost:8080/"
        },
        "id": "fCQWAwGwY5ja",
        "outputId": "89d217a2-4290-492b-cd9e-9261a65159ee"
      },
      "execution_count": 32,
      "outputs": [
        {
          "output_type": "stream",
          "name": "stdout",
          "text": [
            "Accuracy : 72.20 %\n",
            "Standard Deviation : 4.43 %\n"
          ]
        }
      ]
    },
    {
      "cell_type": "markdown",
      "source": [
        "#Quadratic Discriminant Analysis"
      ],
      "metadata": {
        "id": "-M5w0ygPcPrS"
      }
    },
    {
      "cell_type": "code",
      "source": [
        "from sklearn.discriminant_analysis import QuadraticDiscriminantAnalysis\n",
        "\n",
        "classifier = QuadraticDiscriminantAnalysis()\n",
        "classifier.fit(X_train,y_train)\n",
        "y_pred = classifier.predict(X_test)\n",
        "skf = StratifiedKFold(n_splits = 10,shuffle = True)\n",
        "accuracies = cross_val_score(estimator=classifier,X=X_train,y=y_train,cv=skf)\n",
        "\n",
        "print(\"Accuracy : {:.2f} %\".format(accuracies.mean()*100))\n",
        "print(\"Standard Deviation : {:.2f} %\".format(accuracies.std()*100))"
      ],
      "metadata": {
        "colab": {
          "base_uri": "https://localhost:8080/"
        },
        "id": "H3cg8BS7bP7N",
        "outputId": "9a6f31b6-38ac-404f-dcf9-87e836ad6f8c"
      },
      "execution_count": 34,
      "outputs": [
        {
          "output_type": "stream",
          "name": "stdout",
          "text": [
            "Accuracy : 72.02 %\n",
            "Standard Deviation : 6.23 %\n"
          ]
        }
      ]
    },
    {
      "cell_type": "markdown",
      "source": [
        "#Support Vector Machine"
      ],
      "metadata": {
        "id": "yrZ7dBREdKsu"
      }
    },
    {
      "cell_type": "code",
      "source": [
        "from sklearn.svm import SVC\n",
        "\n",
        "classifier = SVC(kernel='linear')\n",
        "classifier.fit(X_train,y_train)\n",
        "\n",
        "y_pred = classifier.predict(X_test)\n",
        "skf = StratifiedKFold(n_splits = 10,shuffle = True)\n",
        "accuracies = cross_val_score(estimator=classifier,X=X_train,y=y_train,cv=skf)\n",
        "\n",
        "print(\"Accuracy : {:.2f} %\".format(accuracies.mean()*100))\n",
        "print(\"Standard Deviation : {:.2f} %\".format(accuracies.std()*100))"
      ],
      "metadata": {
        "colab": {
          "base_uri": "https://localhost:8080/"
        },
        "id": "o0XNqAmsdJh-",
        "outputId": "96fd1ee8-904a-43ad-a3e7-0cfd1d55f088"
      },
      "execution_count": 36,
      "outputs": [
        {
          "output_type": "stream",
          "name": "stdout",
          "text": [
            "Accuracy : 75.70 %\n",
            "Standard Deviation : 4.03 %\n"
          ]
        }
      ]
    },
    {
      "cell_type": "markdown",
      "source": [
        "#Support Vector Machine - RBF kernel"
      ],
      "metadata": {
        "id": "ZK5GScw-i-JL"
      }
    },
    {
      "cell_type": "code",
      "source": [
        "from sklearn.svm import SVC\n",
        "\n",
        "classifier = SVC(kernel = 'rbf')\n",
        "classifier.fit(X_train,y_train)\n",
        "\n",
        "y_pred = classifier.predict(X_test)\n",
        "skf = StratifiedKFold(n_splits = 10,shuffle = True)\n",
        "accuracies = cross_val_score(estimator=classifier,X=X_train,y=y_train,cv=skf)\n",
        "\n",
        "print(\"Accuracy : {:.2f} %\".format(accuracies.mean()*100))\n",
        "print(\"Standard Deviation : {:.2f} %\".format(accuracies.std()*100))"
      ],
      "metadata": {
        "colab": {
          "base_uri": "https://localhost:8080/"
        },
        "id": "Wb78KBooecyr",
        "outputId": "9389e939-1ef0-4b91-9565-6bef7f9370cb"
      },
      "execution_count": 38,
      "outputs": [
        {
          "output_type": "stream",
          "name": "stdout",
          "text": [
            "Accuracy : 76.39 %\n",
            "Standard Deviation : 4.96 %\n"
          ]
        }
      ]
    },
    {
      "cell_type": "markdown",
      "source": [
        "#Voting"
      ],
      "metadata": {
        "id": "mtIm8thYj5Q2"
      }
    },
    {
      "cell_type": "code",
      "source": [
        "from sklearn.ensemble import VotingClassifier\n",
        "\n",
        "clf1 = AdaBoostClassifier()\n",
        "clf2 = RandomForestClassifier()\n",
        "clf3 = SVC(kernel = 'linear')\n",
        "classifier = VotingClassifier(estimators=[('ada',clf1),('rf',clf2),('rbf',clf3)])\n",
        "classifier.fit(X_train,y_train)\n",
        "\n",
        "skf = StratifiedKFold(n_splits=10,shuffle=True)\n",
        "\n",
        "accuracies = cross_val_score(estimator=classifier,X = X_train, y = y_train,cv=skf)\n",
        "\n",
        "print(\"Accuracy : {:.2f} %\".format(accuracies.mean()*100))\n",
        "print(\"Standard Deviation : {:.2f} %\".format(accuracies.std()*100))"
      ],
      "metadata": {
        "colab": {
          "base_uri": "https://localhost:8080/"
        },
        "id": "akdrBMsUfV3c",
        "outputId": "d6c493df-002c-4b11-9575-f6f4ec102447"
      },
      "execution_count": 39,
      "outputs": [
        {
          "output_type": "stream",
          "name": "stdout",
          "text": [
            "Accuracy : 75.16 %\n",
            "Standard Deviation : 7.25 %\n"
          ]
        }
      ]
    },
    {
      "cell_type": "markdown",
      "source": [
        "#Bagging"
      ],
      "metadata": {
        "id": "thz2uYcvl1f8"
      }
    },
    {
      "cell_type": "code",
      "source": [
        "from sklearn.ensemble import BaggingClassifier\n",
        "import warnings\n",
        "warnings.filterwarnings(\"ignore\")\n",
        "\n",
        "classifier = BaggingClassifier(base_estimator=SVC(kernel='rbf'),n_estimators=10)\n",
        "classifier.fit(X_train,y_train)\n",
        "y_pred = classifier.predict(X_test)\n",
        "\n",
        "skf = StratifiedKFold(n_splits=10,shuffle=True)\n",
        "accuracies = cross_val_score(estimator=classifier,X = X_train, y = y_train,cv=skf)\n",
        "\n",
        "print(\"Accuracy : {:.2f} %\".format(accuracies.mean()*100))\n",
        "print(\"Standard Deviation : {:.2f} %\".format(accuracies.std()*100))"
      ],
      "metadata": {
        "colab": {
          "base_uri": "https://localhost:8080/"
        },
        "id": "z_KiYSdYl3Wx",
        "outputId": "994fac1a-e785-4353-bb6b-ef0b4d49e7ce"
      },
      "execution_count": 42,
      "outputs": [
        {
          "output_type": "stream",
          "name": "stdout",
          "text": [
            "Accuracy : 75.88 %\n",
            "Standard Deviation : 5.21 %\n"
          ]
        }
      ]
    },
    {
      "cell_type": "markdown",
      "source": [
        "#Run Multiple Estimators"
      ],
      "metadata": {
        "id": "4g9pAkS-oYYv"
      }
    },
    {
      "cell_type": "code",
      "source": [
        "from xgboost import XGBClassifier\n",
        "\n",
        "\n",
        "classifiers = [DecisionTreeClassifier(),\n",
        "               RandomForestClassifier(),\n",
        "               GaussianNB(),\n",
        "               KNeighborsClassifier(),\n",
        "               SVC(kernel='linear'),\n",
        "               SVC(kernel='rbf'),\n",
        "               AdaBoostClassifier(),\n",
        "               QuadraticDiscriminantAnalysis(),\n",
        "               VotingClassifier(estimators=[('1',AdaBoostClassifier()),\n",
        "                                            ('2',RandomForestClassifier()),\n",
        "                                            ('3',SVC(kernel='linear'))]),\n",
        "               BaggingClassifier(base_estimator=clf3,n_estimators=10,random_state=0),\n",
        "                XGBClassifier()]\n",
        "\n",
        "\n",
        "classifier_name = ['D_tree',\n",
        "                   'RF',\n",
        "                   'GNB',\n",
        "                   'KNN',\n",
        "                   'Ada',\n",
        "                   'QDA',\n",
        "                   'SVM_l',\n",
        "                   'SVM_k',\n",
        "                   'Voting',\n",
        "                   'Bagging',\n",
        "                   'XGBC']\n",
        "\n",
        "modelaccuracies = []\n",
        "modelmeans = []\n",
        "modelnames= []\n",
        "\n",
        "classifier_data = zip(classifier_name,classifiers)\n",
        "for classifier_name, classifier in classifier_data:\n",
        "  skf = StratifiedKFold(n_splits=10,shuffle=True)\n",
        "  accuracies = cross_val_score(classifier,X=X_train,y=y_train,cv = skf)\n",
        "  print('Mean accuracy of',classifier_name,':{:.2f}'.format(accuracies.mean()*100))\n",
        "  modelaccuracies.append(accuracies)\n",
        "  modelnames.append(classifier_name)\n",
        "  modelmeans.append(accuracies.mean()*100)\n",
        "\n",
        "plt.figure(figsize=(10,5))\n",
        "plt.ylim(60,80)\n",
        "plt.bar(modelnames,modelmeans);\n",
        "\n",
        "fig = plt.figure(figsize=(10,5))\n",
        "ax = fig.add_subplot(111)\n",
        "ax.boxplot(modelaccuracies)\n",
        "ax.set_xticklabels(modelnames)\n",
        "plt.show()"
      ],
      "metadata": {
        "colab": {
          "base_uri": "https://localhost:8080/",
          "height": 972
        },
        "id": "RaApQ13jn28n",
        "outputId": "0c3d5625-7804-4789-acd6-719398b18dfa"
      },
      "execution_count": 46,
      "outputs": [
        {
          "output_type": "stream",
          "name": "stdout",
          "text": [
            "Mean accuracy of D_tree :67.38\n",
            "Mean accuracy of RF :74.65\n",
            "Mean accuracy of GNB :74.65\n",
            "Mean accuracy of KNN :71.18\n",
            "Mean accuracy of Ada :75.52\n",
            "Mean accuracy of QDA :75.35\n",
            "Mean accuracy of SVM_l :71.51\n",
            "Mean accuracy of SVM_k :73.98\n",
            "Mean accuracy of Voting :75.52\n",
            "Mean accuracy of Bagging :76.07\n",
            "Mean accuracy of XGBC :70.87\n"
          ]
        },
        {
          "output_type": "display_data",
          "data": {
            "text/plain": [
              "<Figure size 1000x500 with 1 Axes>"
            ],
            "image/png": "[encoded data removed]"
          },
          "metadata": {}
        },
        {
          "output_type": "display_data",
          "data": {
            "text/plain": [
              "<Figure size 1000x500 with 1 Axes>"
            ],
            "image/png": "[encoded data removed]"
          },
          "metadata": {}
        }
      ]
    },
    {
      "cell_type": "code",
      "source": [],
      "metadata": {
        "id": "nLO1iLc0tNGV"
      },
      "execution_count": null,
      "outputs": []
    }
  ]
}