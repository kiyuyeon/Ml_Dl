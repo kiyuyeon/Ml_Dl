{
  "nbformat": 4,
  "nbformat_minor": 0,
  "metadata": {
    "colab": {
      "provenance": [],
      "authorship_tag": "ABX9TyOZ19b1y0rS3sdrNS+/eEPC",
      "include_colab_link": true
    },
    "kernelspec": {
      "name": "python3",
      "display_name": "Python 3"
    },
    "language_info": {
      "name": "python"
    }
  },
  "cells": [
    {
      "cell_type": "markdown",
      "metadata": {
        "id": "view-in-github",
        "colab_type": "text"
      },
      "source": [
        "<a href=\"https://colab.research.google.com/github/kiyuyeon/Ml_Dl/blob/master/20230620_chapter20.ipynb\" target=\"_parent\"><img src=\"https://colab.research.google.com/assets/colab-badge.svg\" alt=\"Open In Colab\"/></a>"
      ]
    },
    {
      "cell_type": "code",
      "execution_count": null,
      "metadata": {
        "id": "70q6yHCYxRc9"
      },
      "outputs": [],
      "source": [
        "from tensorflow.keras.models import Sequential\n",
        "from tensorflow.keras.layers import Dense, Activation, Dropout, Flatten, Conv2D, MaxPooling2D\n",
        "from tensorflow.keras.preprocessing.image import ImageDataGenerator\n",
        "from tensorflow.keras.callbacks import EarlyStopping\n",
        "from tensorflow.keras import optimizers\n",
        "\n",
        "import numpy as np\n",
        "import matplotlib.pyplot as plt\n"
      ]
    },
    {
      "cell_type": "code",
      "source": [
        "!git clone https://github.com/taehojo/data-ch20.git"
      ],
      "metadata": {
        "colab": {
          "base_uri": "https://localhost:8080/"
        },
        "id": "_-kAekyJxTDt",
        "outputId": "588326e4-5987-4600-c1b3-6ca102a38ccc"
      },
      "execution_count": null,
      "outputs": [
        {
          "output_type": "stream",
          "name": "stdout",
          "text": [
            "Cloning into 'data-ch20'...\n",
            "remote: Enumerating objects: 265, done.\u001b[K\n",
            "remote: Counting objects: 100% (265/265), done.\u001b[K\n",
            "remote: Compressing objects: 100% (265/265), done.\u001b[K\n",
            "remote: Total 265 (delta 0), reused 265 (delta 0), pack-reused 0\u001b[K\n",
            "Receiving objects: 100% (265/265), 1.86 MiB | 9.39 MiB/s, done.\n"
          ]
        }
      ]
    },
    {
      "cell_type": "code",
      "source": [
        "# 기존의 이미지 갯수를 늘리는 작업 : 데이터 전처리\n",
        "train_datagen = ImageDataGenerator(rescale=1./255,          # 정규화\n",
        "                                  horizontal_flip=True,     # 수평으로 뒤집기\n",
        "                                  width_shift_range=0.1,    # 수평이동\n",
        "                                  height_shift_range=0.1,   # 수직이동\n",
        "                                  fill_mode='nearest' )     # 빈 공간을 채우는 방\n",
        "\n",
        "\n",
        "train_generator = train_datagen.flow_from_directory(\n",
        "       './data-ch20/train',   # 학습셋이 있는 폴더의 위치입니다.\n",
        "       target_size=(150, 150),\n",
        "       batch_size=5,\n",
        "       class_mode='binary')\n",
        "\n",
        "test_datagen = ImageDataGenerator(rescale=1./255)\n",
        "\n",
        "test_generator = test_datagen.flow_from_directory(\n",
        "       './data-ch20/test',   # 테스트셋이 있는 폴더의 위치입니다.\n",
        "       target_size=(150, 150),\n",
        "       batch_size=5,\n",
        "       class_mode='binary')"
      ],
      "metadata": {
        "colab": {
          "base_uri": "https://localhost:8080/"
        },
        "id": "elWSQQPuxT7J",
        "outputId": "76e24c9a-30e3-4097-e98a-79eecdd26a33"
      },
      "execution_count": null,
      "outputs": [
        {
          "output_type": "stream",
          "name": "stdout",
          "text": [
            "Found 160 images belonging to 2 classes.\n",
            "Found 120 images belonging to 2 classes.\n"
          ]
        }
      ]
    },
    {
      "cell_type": "code",
      "source": [
        "# CNN 모델 적용\n",
        "model = Sequential()\n",
        "model.add(Conv2D(32, (3, 3), input_shape=(150,150,3)))\n",
        "model.add(Activation('relu'))\n",
        "model.add(MaxPooling2D(pool_size=(2, 2)))\n",
        "\n",
        "model.add(Conv2D(32, (3, 3)))\n",
        "model.add(Activation('relu'))\n",
        "model.add(MaxPooling2D(pool_size=(2, 2)))\n",
        "\n",
        "model.add(Conv2D(64, (3, 3)))\n",
        "model.add(Activation('relu'))\n",
        "model.add(MaxPooling2D(pool_size=(2, 2)))\n",
        "\n",
        "model.add(Flatten())\n",
        "model.add(Dense(64))\n",
        "model.add(Activation('relu'))\n",
        "model.add(Dropout(0.5))\n",
        "model.add(Dense(1))\n",
        "model.add(Activation('sigmoid'))\n",
        "model.summary()"
      ],
      "metadata": {
        "colab": {
          "base_uri": "https://localhost:8080/"
        },
        "id": "J1ZJU5wzxf8z",
        "outputId": "24080bf7-e253-4f96-e837-7e7a19ea47d0"
      },
      "execution_count": null,
      "outputs": [
        {
          "output_type": "stream",
          "name": "stdout",
          "text": [
            "Model: \"sequential\"\n",
            "_________________________________________________________________\n",
            " Layer (type)                Output Shape              Param #   \n",
            "=================================================================\n",
            " conv2d (Conv2D)             (None, 148, 148, 32)      896       \n",
            "                                                                 \n",
            " activation (Activation)     (None, 148, 148, 32)      0         \n",
            "                                                                 \n",
            " max_pooling2d (MaxPooling2D  (None, 74, 74, 32)       0         \n",
            " )                                                               \n",
            "                                                                 \n",
            " conv2d_1 (Conv2D)           (None, 72, 72, 32)        9248      \n",
            "                                                                 \n",
            " activation_1 (Activation)   (None, 72, 72, 32)        0         \n",
            "                                                                 \n",
            " max_pooling2d_1 (MaxPooling  (None, 36, 36, 32)       0         \n",
            " 2D)                                                             \n",
            "                                                                 \n",
            " conv2d_2 (Conv2D)           (None, 34, 34, 64)        18496     \n",
            "                                                                 \n",
            " activation_2 (Activation)   (None, 34, 34, 64)        0         \n",
            "                                                                 \n",
            " max_pooling2d_2 (MaxPooling  (None, 17, 17, 64)       0         \n",
            " 2D)                                                             \n",
            "                                                                 \n",
            " flatten (Flatten)           (None, 18496)             0         \n",
            "                                                                 \n",
            " dense (Dense)               (None, 64)                1183808   \n",
            "                                                                 \n",
            " activation_3 (Activation)   (None, 64)                0         \n",
            "                                                                 \n",
            " dropout (Dropout)           (None, 64)                0         \n",
            "                                                                 \n",
            " dense_1 (Dense)             (None, 1)                 65        \n",
            "                                                                 \n",
            " activation_4 (Activation)   (None, 1)                 0         \n",
            "                                                                 \n",
            "=================================================================\n",
            "Total params: 1,212,513\n",
            "Trainable params: 1,212,513\n",
            "Non-trainable params: 0\n",
            "_________________________________________________________________\n"
          ]
        }
      ]
    },
    {
      "cell_type": "code",
      "source": [
        "#컴파일 옵션 설정.\n",
        "model.compile(loss='binary_crossentropy', optimizer=optimizers.Adam(learning_rate=0.0002), metrics=['accuracy'])\n",
        "\n",
        "# 조기 중단을 설정.\n",
        "early_stopping_callback = EarlyStopping(monitor='val_loss', patience=5)\n",
        "\n",
        "#모델 실행\n",
        "history = model.fit(\n",
        "       train_generator,\n",
        "       epochs=100,\n",
        "       validation_data=test_generator,\n",
        "       validation_steps=10,\n",
        "       callbacks=[early_stopping_callback])"
      ],
      "metadata": {
        "colab": {
          "base_uri": "https://localhost:8080/"
        },
        "id": "0rv8K4p3yJM5",
        "outputId": "627ab7b6-f794-4f81-ed5e-aaab105d3345"
      },
      "execution_count": null,
      "outputs": [
        {
          "output_type": "stream",
          "name": "stdout",
          "text": [
            "Epoch 1/100\n",
            "32/32 [==============================] - 9s 229ms/step - loss: 0.7122 - accuracy: 0.5000 - val_loss: 0.6722 - val_accuracy: 0.6000\n",
            "Epoch 2/100\n",
            "32/32 [==============================] - 4s 127ms/step - loss: 0.6904 - accuracy: 0.5625 - val_loss: 0.6753 - val_accuracy: 0.5600\n",
            "Epoch 3/100\n",
            "32/32 [==============================] - 4s 116ms/step - loss: 0.6840 - accuracy: 0.5625 - val_loss: 0.6684 - val_accuracy: 0.6600\n",
            "Epoch 4/100\n",
            "32/32 [==============================] - 4s 118ms/step - loss: 0.6679 - accuracy: 0.6375 - val_loss: 0.6587 - val_accuracy: 0.5000\n",
            "Epoch 5/100\n",
            "32/32 [==============================] - 5s 143ms/step - loss: 0.6682 - accuracy: 0.6250 - val_loss: 0.6473 - val_accuracy: 0.6200\n",
            "Epoch 6/100\n",
            "32/32 [==============================] - 4s 118ms/step - loss: 0.6250 - accuracy: 0.6562 - val_loss: 0.5663 - val_accuracy: 0.6600\n",
            "Epoch 7/100\n",
            "32/32 [==============================] - 4s 116ms/step - loss: 0.5849 - accuracy: 0.7063 - val_loss: 0.5600 - val_accuracy: 0.6400\n",
            "Epoch 8/100\n",
            "32/32 [==============================] - 4s 115ms/step - loss: 0.5408 - accuracy: 0.7625 - val_loss: 0.4786 - val_accuracy: 0.7600\n",
            "Epoch 9/100\n",
            "32/32 [==============================] - 4s 117ms/step - loss: 0.4646 - accuracy: 0.8000 - val_loss: 0.3790 - val_accuracy: 0.9200\n",
            "Epoch 10/100\n",
            "32/32 [==============================] - 5s 144ms/step - loss: 0.4166 - accuracy: 0.8313 - val_loss: 0.3137 - val_accuracy: 0.8400\n",
            "Epoch 11/100\n",
            "32/32 [==============================] - 4s 116ms/step - loss: 0.3476 - accuracy: 0.8687 - val_loss: 0.3692 - val_accuracy: 0.8400\n",
            "Epoch 12/100\n",
            "32/32 [==============================] - 4s 124ms/step - loss: 0.3038 - accuracy: 0.9062 - val_loss: 0.1983 - val_accuracy: 0.9600\n",
            "Epoch 13/100\n",
            "32/32 [==============================] - 4s 118ms/step - loss: 0.3304 - accuracy: 0.8562 - val_loss: 0.2181 - val_accuracy: 0.9800\n",
            "Epoch 14/100\n",
            "32/32 [==============================] - 4s 117ms/step - loss: 0.2156 - accuracy: 0.9375 - val_loss: 0.1631 - val_accuracy: 0.9600\n",
            "Epoch 15/100\n",
            "32/32 [==============================] - 5s 161ms/step - loss: 0.2350 - accuracy: 0.9187 - val_loss: 0.1715 - val_accuracy: 0.9400\n",
            "Epoch 16/100\n",
            "32/32 [==============================] - 5s 142ms/step - loss: 0.1774 - accuracy: 0.9250 - val_loss: 0.1514 - val_accuracy: 0.9600\n",
            "Epoch 17/100\n",
            "32/32 [==============================] - 4s 116ms/step - loss: 0.1874 - accuracy: 0.9375 - val_loss: 0.1605 - val_accuracy: 0.9400\n",
            "Epoch 18/100\n",
            "32/32 [==============================] - 5s 167ms/step - loss: 0.2023 - accuracy: 0.9250 - val_loss: 0.1743 - val_accuracy: 0.8800\n",
            "Epoch 19/100\n",
            "32/32 [==============================] - 5s 143ms/step - loss: 0.1682 - accuracy: 0.9750 - val_loss: 0.1290 - val_accuracy: 0.9800\n",
            "Epoch 20/100\n",
            "32/32 [==============================] - 5s 166ms/step - loss: 0.1779 - accuracy: 0.9125 - val_loss: 0.0983 - val_accuracy: 0.9800\n",
            "Epoch 21/100\n",
            "32/32 [==============================] - 5s 147ms/step - loss: 0.1412 - accuracy: 0.9563 - val_loss: 0.0624 - val_accuracy: 1.0000\n",
            "Epoch 22/100\n",
            "32/32 [==============================] - 4s 116ms/step - loss: 0.1026 - accuracy: 0.9812 - val_loss: 0.0724 - val_accuracy: 0.9800\n",
            "Epoch 23/100\n",
            "32/32 [==============================] - 4s 117ms/step - loss: 0.1671 - accuracy: 0.9250 - val_loss: 0.1175 - val_accuracy: 0.9600\n",
            "Epoch 24/100\n",
            "32/32 [==============================] - 5s 139ms/step - loss: 0.1876 - accuracy: 0.9125 - val_loss: 0.1142 - val_accuracy: 0.9400\n",
            "Epoch 25/100\n",
            "32/32 [==============================] - 4s 115ms/step - loss: 0.1411 - accuracy: 0.9438 - val_loss: 0.0574 - val_accuracy: 0.9800\n",
            "Epoch 26/100\n",
            "32/32 [==============================] - 5s 144ms/step - loss: 0.1026 - accuracy: 0.9625 - val_loss: 0.0880 - val_accuracy: 0.9800\n",
            "Epoch 27/100\n",
            "32/32 [==============================] - 4s 115ms/step - loss: 0.1628 - accuracy: 0.9312 - val_loss: 0.0899 - val_accuracy: 0.9600\n",
            "Epoch 28/100\n",
            "32/32 [==============================] - 4s 123ms/step - loss: 0.1092 - accuracy: 0.9750 - val_loss: 0.0732 - val_accuracy: 0.9600\n",
            "Epoch 29/100\n",
            "32/32 [==============================] - 4s 116ms/step - loss: 0.1081 - accuracy: 0.9812 - val_loss: 0.0526 - val_accuracy: 0.9600\n",
            "Epoch 30/100\n",
            "32/32 [==============================] - 4s 117ms/step - loss: 0.0721 - accuracy: 0.9875 - val_loss: 0.1196 - val_accuracy: 0.9200\n",
            "Epoch 31/100\n",
            "32/32 [==============================] - 5s 143ms/step - loss: 0.0797 - accuracy: 0.9625 - val_loss: 0.0545 - val_accuracy: 0.9800\n",
            "Epoch 32/100\n",
            "32/32 [==============================] - 4s 116ms/step - loss: 0.0500 - accuracy: 0.9937 - val_loss: 0.2419 - val_accuracy: 0.9000\n",
            "Epoch 33/100\n",
            "32/32 [==============================] - 4s 117ms/step - loss: 0.0952 - accuracy: 0.9625 - val_loss: 0.0357 - val_accuracy: 1.0000\n",
            "Epoch 34/100\n",
            "32/32 [==============================] - 5s 145ms/step - loss: 0.0641 - accuracy: 0.9750 - val_loss: 0.0245 - val_accuracy: 1.0000\n",
            "Epoch 35/100\n",
            "32/32 [==============================] - 4s 117ms/step - loss: 0.1347 - accuracy: 0.9500 - val_loss: 0.1385 - val_accuracy: 0.9600\n",
            "Epoch 36/100\n",
            "32/32 [==============================] - 5s 144ms/step - loss: 0.0925 - accuracy: 0.9812 - val_loss: 0.1016 - val_accuracy: 0.9600\n",
            "Epoch 37/100\n",
            "32/32 [==============================] - 4s 118ms/step - loss: 0.0931 - accuracy: 0.9625 - val_loss: 0.0943 - val_accuracy: 0.9400\n",
            "Epoch 38/100\n",
            "32/32 [==============================] - 4s 115ms/step - loss: 0.0653 - accuracy: 0.9812 - val_loss: 0.0603 - val_accuracy: 0.9800\n",
            "Epoch 39/100\n",
            "32/32 [==============================] - 4s 125ms/step - loss: 0.0785 - accuracy: 0.9688 - val_loss: 0.0418 - val_accuracy: 0.9800\n"
          ]
        }
      ]
    },
    {
      "cell_type": "code",
      "source": [
        "# 검증셋과 학습셋의 오차를 저장합니다.\n",
        "y_vloss = history.history['val_loss']\n",
        "y_loss = history.history['loss']\n",
        "\n",
        "# 그래프로 표현해 봅니다.\n",
        "x_len = np.arange(len(y_loss))\n",
        "plt.plot(x_len, y_vloss, marker='.', c=\"red\", label='Testset_loss')\n",
        "plt.plot(x_len, y_loss, marker='.', c=\"blue\", label='Trainset_loss')\n",
        "\n",
        "# 그래프에 그리드를 주고 레이블을 표시하겠습니다.\n",
        "plt.legend(loc='upper right')\n",
        "plt.grid()\n",
        "plt.xlabel('epoch')\n",
        "plt.ylabel('loss')\n",
        "plt.show()"
      ],
      "metadata": {
        "colab": {
          "base_uri": "https://localhost:8080/",
          "height": 449
        },
        "id": "IlVagDtmzMP1",
        "outputId": "b16a044d-0a3f-40ae-c41a-2f2ccd22f7f8"
      },
      "execution_count": null,
      "outputs": [
        {
          "output_type": "display_data",
          "data": {
            "text/plain": [
              "<Figure size 640x480 with 1 Axes>"
            ],
            "image/png": "[encoded data removed]"
          },
          "metadata": {}
        }
      ]
    }
  ]
}