{
 "cells": [
  {
   "cell_type": "code",
   "execution_count": null,
   "metadata": {},
   "outputs": [],
   "source": [
    "import urllib.request\n",
    "import pandas as pd\n",
    "\n",
    "urllib.request.urlretrieve(\"https://raw.githubusercontent.com/e9t/nsmc/master/ratings_train.txt\", \n",
    "                           filename=\"./data/ratings_train.txt\")\n",
    "urllib.request.urlretrieve(\"https://raw.githubusercontent.com/e9t/nsmc/master/ratings_test.txt\", \n",
    "                           filename=\"./data/ratings_test.txt\")"
   ]
  },
  {
   "cell_type": "code",
   "execution_count": null,
   "metadata": {},
   "outputs": [],
   "source": [
    "train_data = pd.read_table('./data/ratings_train.txt')\n",
    "test_data = pd.read_table('./data/ratings_test.txt')"
   ]
  },
  {
   "cell_type": "code",
   "execution_count": null,
   "metadata": {},
   "outputs": [],
   "source": [
    "# 데이터 전처리\n",
    "    # 1. 비어 있는 리뷰 처리\n",
    "    # 2. 한글외의 문자는 Nan 처리\n",
    "    # 3. 같은 리뷰 제거  \n",
    "    \n",
    "#  학습 데이터와 테스트 데이터로 정형화\n",
    "    # 4. x 와 y로 분리\n",
    "    # 5. 단어로 토큰 \n",
    "    # 6. 패딩\n",
    "    \n",
    "# 7. 모델 구조 설계\n",
    "# 8. 모델 실행\n",
    "# 9. 모델 검증"
   ]
  },
  {
   "cell_type": "code",
   "execution_count": null,
   "metadata": {},
   "outputs": [],
   "source": [
    "# 데이터 전처리\n",
    "    # 1. 비어 있는 리뷰 처리\n",
    "    # 2. 한글외의 문자는 Nan 처리\n",
    "    # 3. 같은 리뷰 제거\n",
    "\n",
    "# 1. 비어 있는 리뷰 처리   \n",
    "train_data = train_data.dropna(how='any')  # null 존재하는 행 제거 \n",
    "# 2. 한글을 제외한 문자를 '' 로 변경\n",
    "train_data['document'] = train_data['document'].str.replace(r'[^ㄱ-ㅎㅏ-ㅣ가-힣 \" \"]', \n",
    "                                                          '', regex=True)\n",
    "# '' 를 np.nan  으로 변경 -> nan 을 제거\n",
    "train_data['document'].replace('', np.nan, inplace=True)\n",
    "train_data.dropna(inplace=True)\n",
    "# 3. 같은 리뷰 제거\n",
    "train_data.drop_duplicates(subset=['document'], inplace=True) "
   ]
  },
  {
   "cell_type": "code",
   "execution_count": null,
   "metadata": {},
   "outputs": [],
   "source": [
    "#  학습 데이터와 테스트 데이터로 정형화\n",
    "    # 4. x 와 y로 분리\n",
    "    # 5. 단어로 토큰 \n",
    "    # 6. 패딩\n",
    "\n",
    "# 4. x 와 y로 분리\n",
    "x_train = train_data['document']\n",
    "y_train = train_data['label']\n",
    "\n",
    "x_test = test_data['document']\n",
    "y_test = test_data['label']\n",
    "\n"
   ]
  },
  {
   "cell_type": "code",
   "execution_count": null,
   "metadata": {},
   "outputs": [],
   "source": [
    "## 딥러닝을 활용한 자연어 처리\n",
    "from tensorflow.keras.preprocessing.text import Tokenizer\n",
    "from tensorflow.keras.preprocessing.sequence import pad_sequences\n",
    "from tensorflow.keras.models import Sequential\n",
    "from tensorflow.keras.layers import Dense, Flatten, Embedding\n",
    "from tensorflow.keras.utils import to_categorical\n"
   ]
  },
  {
   "cell_type": "code",
   "execution_count": null,
   "metadata": {},
   "outputs": [],
   "source": [
    "# 5. 자연어 전처리 -> 토큰화\n",
    "token = Tokenizer()\n",
    "token.fit_on_texts(x_train) \n",
    "\n",
    "# 6. 서로 다른 길이의 데이터를 padding -> 10로 \n",
    "padd_x = token.texts_to_sequences(x_train)   # 단어를 토큰화 하고 인덱스만 가져옴\n",
    "\n",
    "# 서로 다른 길이의 데이터를 padding -> 10로 \n",
    "padded_x = pad_sequences(padd_x, 10)"
   ]
  },
  {
   "cell_type": "code",
   "execution_count": null,
   "metadata": {},
   "outputs": [],
   "source": [
    "# 임베딩에 입력된 단어의 수를 지정\n",
    "word_size = len(token.word_index) + 1\n",
    "\n",
    "# 7. 단어 임베딩을 포함한 딥러닝 모델 생성\n",
    "model = Sequential()\n",
    "model.add(Embedding(word_size, 8, input_length=10))\n",
    "model.add(Flatten())\n",
    "model.add(Dense(1, activation='sigmoid'))\n",
    "model.summary()\n",
    "\n",
    "#  8. model 실행 옵션 설정\n",
    "model.compile(loss='binary_crossentropy', optimizer='adam', metrics=['accuracy'])\n",
    "model.fit(padded_x, y_train, epochs=20)"
   ]
  },
  {
   "cell_type": "code",
   "execution_count": null,
   "metadata": {},
   "outputs": [],
   "source": [
    "# 9. 검증하기 위한 테스트 자료\n",
    "# 서로 다른 길이의 데이터를 padding -> 10로 \n",
    "padd_xt = token.texts_to_sequences(x_test)   # 단어를 토큰화 하고 인덱스만 가져옴\n",
    "\n",
    "# 서로 다른 길이의 데이터를 padding -> 10로 \n",
    "padded_xt = pad_sequences(padd_xt, 10)\n",
    "model.evaluate(padded_xt, y_test)"
   ]
  },
  {
   "cell_type": "code",
   "execution_count": null,
   "metadata": {},
   "outputs": [],
   "source": [
    "\n"
   ]
  }
 ],
 "metadata": {
  "kernelspec": {
   "display_name": "tfdml",
   "language": "python",
   "name": "python3"
  },
  "language_info": {
   "codemirror_mode": {
    "name": "ipython",
    "version": 3
   },
   "file_extension": ".py",
   "mimetype": "text/x-python",
   "name": "python",
   "nbconvert_exporter": "python",
   "pygments_lexer": "ipython3",
   "version": "3.9.16"
  },
  "orig_nbformat": 4
 },
 "nbformat": 4,
 "nbformat_minor": 2
}
