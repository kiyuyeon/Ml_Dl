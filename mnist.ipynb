{
 "cells": [
  {
   "cell_type": "code",
   "execution_count": 5,
   "metadata": {},
   "outputs": [],
   "source": [
    "# %load tensor.py\n",
    "# 딥러닝 모델 관련 모듈\n",
    "from tensorflow.keras.models import Sequential\n",
    "from tensorflow.keras.layers import Dense,Dropout,Flatten,Conv2D,MaxPooling2D\n",
    "from tensorflow.keras.callbacks import ModelCheckpoint,EarlyStopping\n",
    "import matplotlib.pyplot as plt\n",
    "from tensorflow.keras.utils import to_categorical\n",
    "from tensorflow.keras.datasets import mnist\n",
    "import numpy as np\n",
    "import pandas as pd"
   ]
  },
  {
   "cell_type": "code",
   "execution_count": 8,
   "metadata": {},
   "outputs": [],
   "source": [
    "# mnist 데이터셋 로드\n",
    "(X_train,y_train),(X_test,y_test) = mnist.load_data()"
   ]
  },
  {
   "cell_type": "code",
   "execution_count": 9,
   "metadata": {},
   "outputs": [],
   "source": [
    "# CNN을 실행하기 위해 데이터 reshape\n",
    "X_train = X_train.reshape(X_train.shape[0],28,28,1).astype('float32')/255\n",
    "X_test = X_test.reshape(X_test.shape[0],28,28,1).astype('float32')/255\n",
    "\n",
    "y_train = to_categorical(y_train,10)\n",
    "y_test = to_categorical(y_test,10)"
   ]
  },
  {
   "cell_type": "code",
   "execution_count": null,
   "metadata": {},
   "outputs": [
    {
     "name": "stdout",
     "output_type": "stream",
     "text": [
      "Model: \"sequential_4\"\n",
      "_________________________________________________________________\n",
      " Layer (type)                Output Shape              Param #   \n",
      "=================================================================\n",
      " conv2d_8 (Conv2D)           (None, 26, 26, 32)        320       \n",
      "                                                                 \n",
      " conv2d_9 (Conv2D)           (None, 24, 24, 64)        18496     \n",
      "                                                                 \n",
      " max_pooling2d_4 (MaxPooling  (None, 12, 12, 64)       0         \n",
      " 2D)                                                             \n",
      "                                                                 \n",
      " dropout_8 (Dropout)         (None, 12, 12, 64)        0         \n",
      "                                                                 \n",
      " flatten_4 (Flatten)         (None, 9216)              0         \n",
      "                                                                 \n",
      " dense_8 (Dense)             (None, 128)               1179776   \n",
      "                                                                 \n",
      " dropout_9 (Dropout)         (None, 128)               0         \n",
      "                                                                 \n",
      " dense_9 (Dense)             (None, 10)                1290      \n",
      "                                                                 \n",
      "=================================================================\n",
      "Total params: 1,199,882\n",
      "Trainable params: 1,199,882\n",
      "Non-trainable params: 0\n",
      "_________________________________________________________________\n",
      "\n",
      "Epoch 1: val_loss improved from inf to 0.09415, saving model to ./data/model\\MNIST_MLP.hdf5\n",
      "\n",
      "Epoch 2: val_loss improved from 0.09415 to 0.05838, saving model to ./data/model\\MNIST_MLP.hdf5\n",
      "\n",
      "Epoch 3: val_loss improved from 0.05838 to 0.05545, saving model to ./data/model\\MNIST_MLP.hdf5\n",
      "\n",
      "Epoch 4: val_loss improved from 0.05545 to 0.04399, saving model to ./data/model\\MNIST_MLP.hdf5\n",
      "\n",
      "Epoch 5: val_loss did not improve from 0.04399\n",
      "\n",
      "Epoch 6: val_loss did not improve from 0.04399\n",
      "\n",
      "Epoch 7: val_loss improved from 0.04399 to 0.03924, saving model to ./data/model\\MNIST_MLP.hdf5\n",
      "\n",
      "Epoch 8: val_loss did not improve from 0.03924\n",
      "\n",
      "Epoch 9: val_loss did not improve from 0.03924\n",
      "\n",
      "Epoch 10: val_loss did not improve from 0.03924\n",
      "\n",
      "Epoch 11: val_loss did not improve from 0.03924\n",
      "\n",
      "Epoch 12: val_loss did not improve from 0.03924\n"
     ]
    }
   ],
   "source": [
    "# CNN 신경망 설정\n",
    "model = Sequential()\n",
    "model.add(Conv2D(32,(3,3),input_shape=(28,28,1),activation='relu')) # 커널 갯수 32 사이즈 3*3\n",
    "model.add(Conv2D(64,(3,3),activation='relu')) # 커널 64개\n",
    "model.add(MaxPooling2D(pool_size=(2,2))) # 풀링 사이즈(2,2) -> 50% 줄어듬\n",
    "model.add(Dropout(0.25)) # 노드 25% 꺼줌(계산 안함)\n",
    "# Dense 실행 -> 1차원으로 데이터타입을 변경\n",
    "model.add(Flatten()) # (28,28,1) -> (28*28*1) \n",
    "model.add(Dense(128,activation='relu'))\n",
    "model.add(Dropout(0.5))\n",
    "model.add(Dense(10,activation='softmax'))\n",
    "model.summary()\n",
    "\n",
    "model.compile(loss='categorical_crossentropy', optimizer='adam', metrics=['accuracy'])\n",
    "\n",
    "# 모델 최적화를 위한 설정\n",
    "model_path= './data/model/MNIST_MLP.hdf5'\n",
    "checkpointer = ModelCheckpoint(filepath=model_path, monitor='val_loss', \n",
    "                               verbose=1, save_best_only=True)\n",
    "early_stopping = EarlyStopping(monitor='val_loss', patience=10)\n",
    "\n",
    "hist = model.fit(X_train, y_train, epochs=2000,\n",
    "                 validation_split=0.25, batch_size=200, verbose=0,\n",
    "                 callbacks=[early_stopping, checkpointer])\n",
    "\n",
    "# 테스트 정확도 출력\n",
    "print(\"Test accuracy : \", model.evaluate(X_test, y_test)[1])"
   ]
  },
  {
   "cell_type": "code",
   "execution_count": null,
   "metadata": {},
   "outputs": [],
   "source": []
  }
 ],
 "metadata": {
  "kernelspec": {
   "display_name": "py3.7",
   "language": "python",
   "name": "python3"
  },
  "language_info": {
   "codemirror_mode": {
    "name": "ipython",
    "version": 3
   },
   "file_extension": ".py",
   "mimetype": "text/x-python",
   "name": "python",
   "nbconvert_exporter": "python",
   "pygments_lexer": "ipython3",
   "version": "3.7.16"
  },
  "orig_nbformat": 4
 },
 "nbformat": 4,
 "nbformat_minor": 2
}
