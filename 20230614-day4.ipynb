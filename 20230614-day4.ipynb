{
 "cells": [
  {
   "cell_type": "code",
   "execution_count": 15,
   "metadata": {},
   "outputs": [
    {
     "name": "stdout",
     "output_type": "stream",
     "text": [
      "WARNING:tensorflow:5 out of the last 9 calls to <function Model.make_test_function.<locals>.test_function at 0x00000210FF51DAF8> triggered tf.function retracing. Tracing is expensive and the excessive number of tracings could be due to (1) creating @tf.function repeatedly in a loop, (2) passing tensors with different shapes, (3) passing Python objects instead of tensors. For (1), please define your @tf.function outside of the loop. For (2), @tf.function has reduce_retracing=True option that can avoid unnecessary retracing. For (3), please refer to https://www.tensorflow.org/guide/function#controlling_retracing and https://www.tensorflow.org/api_docs/python/tf/function for  more details.\n",
      "2/2 [==============================] - 0s 7ms/step - loss: 0.4136 - accuracy: 0.7937\n",
      "Test accuracy :  0.7936508059501648\n",
      "Train accuracy :  0.9793103337287903\n",
      "0.13542716205120087 0.9793103337287903\n"
     ]
    }
   ],
   "source": [
    "from sklearn.model_selection import train_test_split\n",
    "import pandas as pd\n",
    "import matplotlib.pyplot as plt\n",
    "import seaborn as sns\n",
    "from tensorflow.keras.models import Sequential\n",
    "from tensorflow.keras.layers import Dense\n",
    "from tensorflow.keras.models import load_model\n",
    "\n",
    "\n",
    "df = pd.read_csv('./data/pima-indians-diabetes3.csv')\n",
    "\n",
    "\n",
    "df = pd.read_csv('./data/sonar3.csv',header=None)\n",
    "df.head()\n",
    "X = df.iloc[:,0:-1]\n",
    "y = df.iloc[:,-1]\n",
    "\n",
    "#학습셋 테스트셋 분리\n",
    "X_train , X_test, y_train,y_test = train_test_split(X,y,train_size=0.7,shuffle= True)\n",
    "\n",
    "\n",
    "model = Sequential()\n",
    "model.add(Dense(24, input_dim=X.shape[1], activation='relu'))\n",
    "model.add(Dense(10, activation='relu'))\n",
    "model.add(Dense(1, activation='sigmoid'))\n",
    "model.compile(loss='binary_crossentropy', metrics=['accuracy'])\n",
    "history = model.fit(X_train,y_train,epochs=200, verbose=False)\n",
    "\n",
    "#모델 테스트셋 적용\n",
    "score = model.evaluate(X_test,y_test)\n",
    "\n",
    "print('Test accuracy : ',score[1])\n",
    "print('Train accuracy : ',history.history['accuracy'][-1])\n",
    "print(history.history['loss'][-1],history.history['accuracy'][-1])\n"
   ]
  },
  {
   "cell_type": "code",
   "execution_count": 16,
   "metadata": {},
   "outputs": [
    {
     "name": "stdout",
     "output_type": "stream",
     "text": [
      "WARNING:tensorflow:6 out of the last 11 calls to <function Model.make_test_function.<locals>.test_function at 0x00000210FF68DC18> triggered tf.function retracing. Tracing is expensive and the excessive number of tracings could be due to (1) creating @tf.function repeatedly in a loop, (2) passing tensors with different shapes, (3) passing Python objects instead of tensors. For (1), please define your @tf.function outside of the loop. For (2), @tf.function has reduce_retracing=True option that can avoid unnecessary retracing. For (3), please refer to https://www.tensorflow.org/guide/function#controlling_retracing and https://www.tensorflow.org/api_docs/python/tf/function for  more details.\n",
      "2/2 [==============================] - 0s 12ms/step - loss: 0.4136 - accuracy: 0.7937\n",
      "Test accuracy 0.7936508059501648\n"
     ]
    }
   ],
   "source": [
    "# 모델을 저장 재사용 방법\n",
    "# 모델 load하는 함수\n",
    "model.save('./data/my_model.hdf5')\n",
    "\n",
    "del model\n",
    "model = load_model('./data/my_model.hdf5')\n",
    "score = model.evaluate(X_test,y_test)\n",
    "print('Test accuracy',score[1])"
   ]
  },
  {
   "cell_type": "code",
   "execution_count": 24,
   "metadata": {},
   "outputs": [],
   "source": [
    "# 작은 데이터르 보완하기 위해 k-cross validation\n",
    "from sklearn.model_selection import KFold\n",
    "\n",
    "k = 5\n",
    "\n",
    "kfold = KFold(n_splits=5,shuffle=True)\n",
    "\n",
    "\n",
    "# for train_idx , test_idx in kfold.split(X):\n",
    "#     print('train : ',train_idx)\n",
    "#     print('test : ',test_idx)\n",
    "\n",
    "def model_func(): #딥러닝 구현\n",
    "    model = Sequential() # 딥러닝 모델 구현\n",
    "    model.add(Dense(24,input_dim = 60, activation='relu'))\n",
    "    model.add(Dense(10, activation='relu'))\n",
    "    model.add(Dense(1, activation='sigmoid'))\n",
    "    return model\n",
    "    "
   ]
  },
  {
   "cell_type": "code",
   "execution_count": 26,
   "metadata": {},
   "outputs": [
    {
     "name": "stdout",
     "output_type": "stream",
     "text": [
      "2/2 [==============================] - 1s 7ms/step - loss: 0.8337 - accuracy: 0.7143\n",
      "2/2 [==============================] - 0s 7ms/step - loss: 0.4915 - accuracy: 0.8810\n",
      "2/2 [==============================] - 0s 5ms/step - loss: 0.5189 - accuracy: 0.8810\n",
      "2/2 [==============================] - 0s 4ms/step - loss: 1.2653 - accuracy: 0.7073\n",
      "2/2 [==============================] - 0s 7ms/step - loss: 0.4121 - accuracy: 0.8780\n",
      "정확도는 :  [0.7142857313156128, 0.8809523582458496, 0.8809523582458496, 0.707317054271698, 0.8780487775802612]\n",
      "정화도 평균 :  0.8123112559318543\n"
     ]
    }
   ],
   "source": [
    "# k겹 교차검증을 이용한 k번의 학습 모델 실행\n",
    "\n",
    "acc_score = []\n",
    "\n",
    "for train_idx , test_idx in kfold.split(X):\n",
    "    X_train = X.iloc[train_idx, :]\n",
    "    X_test = X.iloc[test_idx, :]\n",
    "    y_train = y.iloc[train_idx]\n",
    "    y_test = y.iloc[test_idx]\n",
    "\n",
    "    \n",
    "    model = model_func()\n",
    "    model.compile(loss='binary_crossentropy',optimizer='adam',metrics=['accuracy'])\n",
    "    hist = model.fit(X_train,y_train,epochs=200,batch_size=10,verbose=0)\n",
    "    score = model.evaluate(X_test,y_test)[1] # 정확도 구현\n",
    "    acc_score.append(score) # 정확도 리스트에 저장\n",
    "\n",
    "avg_score = sum(acc_score)/k\n",
    "\n",
    "# 결과 출력\n",
    "print('정확도는 : ',acc_score)\n",
    "print('정화도 평균 : ', avg_score)\n",
    "    \n",
    "    "
   ]
  },
  {
   "cell_type": "code",
   "execution_count": null,
   "metadata": {},
   "outputs": [],
   "source": []
  },
  {
   "cell_type": "code",
   "execution_count": null,
   "metadata": {},
   "outputs": [],
   "source": []
  }
 ],
 "metadata": {
  "kernelspec": {
   "display_name": "py3.7",
   "language": "python",
   "name": "python3"
  },
  "language_info": {
   "codemirror_mode": {
    "name": "ipython",
    "version": 3
   },
   "file_extension": ".py",
   "mimetype": "text/x-python",
   "name": "python",
   "nbconvert_exporter": "python",
   "pygments_lexer": "ipython3",
   "version": "3.7.16"
  },
  "orig_nbformat": 4
 },
 "nbformat": 4,
 "nbformat_minor": 2
}
