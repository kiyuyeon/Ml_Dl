{
 "cells": [
  {
   "cell_type": "code",
   "execution_count": 1,
   "metadata": {},
   "outputs": [],
   "source": [
    "from tensorflow.keras.datasets import mnist\n",
    "\n",
    "(x_train,y_train),(x_test,y_test)=mnist.load_data() # \n"
   ]
  },
  {
   "cell_type": "code",
   "execution_count": 2,
   "metadata": {},
   "outputs": [
    {
     "name": "stdout",
     "output_type": "stream",
     "text": [
      "(60000, 28, 28) (10000, 28, 28)\n"
     ]
    }
   ],
   "source": [
    "print(x_train.shape,x_test.shape)"
   ]
  },
  {
   "cell_type": "code",
   "execution_count": 3,
   "metadata": {},
   "outputs": [
    {
     "data": {
      "image/png": "[encoded data removed]",
      "text/plain": [
       "<Figure size 640x480 with 1 Axes>"
      ]
     },
     "metadata": {},
     "output_type": "display_data"
    }
   ],
   "source": [
    "import matplotlib.pyplot as plt\n",
    "\n",
    "plt.imshow(x_train[0],cmap='Greys')\n",
    "plt.show()"
   ]
  },
  {
   "cell_type": "code",
   "execution_count": 4,
   "metadata": {},
   "outputs": [
    {
     "name": "stdout",
     "output_type": "stream",
     "text": [
      "  0  0  0  0  0  0  0  0  0  0  0  0  0  0  0  0  0  0  0  0  0  0  0  0  0  0  0  0\n",
      "  0  0  0  0  0  0  0  0  0  0  0  0  0  0  0  0  0  0  0  0  0  0  0  0  0  0  0  0\n",
      "  0  0  0  0  0  0  0  0  0  0  0  0  0  0  0  0  0  0  0  0  0  0  0  0  0  0  0  0\n",
      "  0  0  0  0  0  0  0  0  0  0  0  0  0  0  0  0  0  0  0  0  0  0  0  0  0  0  0  0\n",
      "  0  0  0  0  0  0  0  0  0  0  0  0  0  0  0  0  0  0  0  0  0  0  0  0  0  0  0  0\n",
      "  0  0  0  0  0  0  0  0  0  0  0  0  3 18 18 18126136175 26166255247127  0  0  0  0\n",
      "  0  0  0  0  0  0  0  0 30 36 94154170253253253253253225172253242195 64  0  0  0  0\n",
      "  0  0  0  0  0  0  0 49238253253253253253253253253251 93 82 82 56 39  0  0  0  0  0\n",
      "  0  0  0  0  0  0  0 18219253253253253253198182247241  0  0  0  0  0  0  0  0  0  0\n",
      "  0  0  0  0  0  0  0  0 80156107253253205 11  0 43154  0  0  0  0  0  0  0  0  0  0\n",
      "  0  0  0  0  0  0  0  0  0 14  1154253 90  0  0  0  0  0  0  0  0  0  0  0  0  0  0\n",
      "  0  0  0  0  0  0  0  0  0  0  0139253190  2  0  0  0  0  0  0  0  0  0  0  0  0  0\n",
      "  0  0  0  0  0  0  0  0  0  0  0 11190253 70  0  0  0  0  0  0  0  0  0  0  0  0  0\n",
      "  0  0  0  0  0  0  0  0  0  0  0  0 35241225160108  1  0  0  0  0  0  0  0  0  0  0\n",
      "  0  0  0  0  0  0  0  0  0  0  0  0  0 81240253253119 25  0  0  0  0  0  0  0  0  0\n",
      "  0  0  0  0  0  0  0  0  0  0  0  0  0  0 45186253253150 27  0  0  0  0  0  0  0  0\n",
      "  0  0  0  0  0  0  0  0  0  0  0  0  0  0  0 16 93252253187  0  0  0  0  0  0  0  0\n",
      "  0  0  0  0  0  0  0  0  0  0  0  0  0  0  0  0  0249253249 64  0  0  0  0  0  0  0\n",
      "  0  0  0  0  0  0  0  0  0  0  0  0  0  0 46130183253253207  2  0  0  0  0  0  0  0\n",
      "  0  0  0  0  0  0  0  0  0  0  0  0 39148229253253253250182  0  0  0  0  0  0  0  0\n",
      "  0  0  0  0  0  0  0  0  0  0 24114221253253253253201 78  0  0  0  0  0  0  0  0  0\n",
      "  0  0  0  0  0  0  0  0 23 66213253253253253198 81  2  0  0  0  0  0  0  0  0  0  0\n",
      "  0  0  0  0  0  0 18171219253253253253195 80  9  0  0  0  0  0  0  0  0  0  0  0  0\n",
      "  0  0  0  0 55172226253253253253244133 11  0  0  0  0  0  0  0  0  0  0  0  0  0  0\n",
      "  0  0  0  0136253253253212135132 16  0  0  0  0  0  0  0  0  0  0  0  0  0  0  0  0\n",
      "  0  0  0  0  0  0  0  0  0  0  0  0  0  0  0  0  0  0  0  0  0  0  0  0  0  0  0  0\n",
      "  0  0  0  0  0  0  0  0  0  0  0  0  0  0  0  0  0  0  0  0  0  0  0  0  0  0  0  0\n",
      "  0  0  0  0  0  0  0  0  0  0  0  0  0  0  0  0  0  0  0  0  0  0  0  0  0  0  0  0\n"
     ]
    }
   ],
   "source": [
    "# 처음에 나오는 이미지의 자료를 화면에 출력\n",
    "\n",
    "for x in x_train[0]:\n",
    "    for i in x:\n",
    "        print(f\"{i:3d}\",end='')\n",
    "    print()"
   ]
  },
  {
   "cell_type": "code",
   "execution_count": 5,
   "metadata": {},
   "outputs": [
    {
     "name": "stdout",
     "output_type": "stream",
     "text": [
      "(60000, 784)\n",
      "(10000, 784)\n"
     ]
    }
   ],
   "source": [
    "# 데이터의 차원 변경\n",
    "# 데이터 정규화\n",
    "\n",
    "x_train = x_train.reshape(x_train.shape[0],28*28) # x_train.shape[0] 행의 개수\n",
    "print(x_train.shape) # 60000 * 784\n",
    "\n",
    "x_test = x_test.reshape(x_test.shape[0],28*28) # x_test.shape[0] 행의 개수\n",
    "print(x_test.shape) # 20000 * 784\n"
   ]
  },
  {
   "cell_type": "code",
   "execution_count": 6,
   "metadata": {},
   "outputs": [],
   "source": [
    "# 데이터 정규화\n",
    "\n",
    "x_train = x_train.astype('float64')/255\n",
    "x_test = x_test.astype('float64')/255\n",
    "\n",
    "# x_test = x_test.reshape(x_test.shape[0],28*28).astype('float64')/255 # x_test.shape[0] 행의 개수\n",
    "\n"
   ]
  },
  {
   "cell_type": "code",
   "execution_count": 7,
   "metadata": {},
   "outputs": [
    {
     "name": "stdout",
     "output_type": "stream",
     "text": [
      "class :  5\n",
      "[5 0 4 1 9 2 1 3 1 4]\n"
     ]
    },
    {
     "data": {
      "text/plain": [
       "array([[0., 0., 0., 0., 0., 1., 0., 0., 0., 0.],\n",
       "       [1., 0., 0., 0., 0., 0., 0., 0., 0., 0.],\n",
       "       [0., 0., 0., 0., 1., 0., 0., 0., 0., 0.],\n",
       "       [0., 1., 0., 0., 0., 0., 0., 0., 0., 0.],\n",
       "       [0., 0., 0., 0., 0., 0., 0., 0., 0., 1.],\n",
       "       [0., 0., 1., 0., 0., 0., 0., 0., 0., 0.],\n",
       "       [0., 1., 0., 0., 0., 0., 0., 0., 0., 0.],\n",
       "       [0., 0., 0., 1., 0., 0., 0., 0., 0., 0.],\n",
       "       [0., 1., 0., 0., 0., 0., 0., 0., 0., 0.],\n",
       "       [0., 0., 0., 0., 1., 0., 0., 0., 0., 0.]], dtype=float32)"
      ]
     },
     "execution_count": 7,
     "metadata": {},
     "output_type": "execute_result"
    }
   ],
   "source": [
    "# y값의 클래스 확인\n",
    "\n",
    "print('class : ' , y_train[0])\n",
    "\n",
    "print(y_train[:10]) # 카테고리 데이터로 변형\n",
    "\n",
    "from tensorflow.keras.utils import  to_categorical # one-hot encoding 과 같은 결과\n",
    "\n",
    "y_train = to_categorical(y_train,10)\n",
    "y_train[:10]"
   ]
  },
  {
   "cell_type": "code",
   "execution_count": 8,
   "metadata": {},
   "outputs": [],
   "source": [
    "# 지금까지의 과정을 하나로 생성\n",
    "from tensorflow.keras.datasets import mnist\n",
    "from tensorflow.keras.utils import to_categorical\n",
    "\n",
    "# mnist 데이터를 train과 test데이터로 load함\n",
    "(x_train,y_train),(x_test,y_test) = mnist.load_data()\n",
    "# x_train과 x_test의 데이터를 차원변경 후 정규화\n",
    "x_train = x_train.reshape(x_train.shape[0],28*28).astype('float32')/255\n",
    "x_test = x_test.reshape(x_test.shape[0],28*28).astype('float32')/255\n",
    "\n",
    "# y의 값을 categori 데이터로 변환 -> one-hot 인코딩, -> to categorical(클래수,클래스갯수)\n",
    "y_train = to_categorical(y_train,10)\n",
    "y_test = to_categorical(y_test,10)\n"
   ]
  },
  {
   "cell_type": "code",
   "execution_count": 9,
   "metadata": {},
   "outputs": [
    {
     "name": "stdout",
     "output_type": "stream",
     "text": [
      "\n",
      "Epoch 00001: val_loss improved from inf to 0.18437, saving model to ./data/model\\MNIST_MLP.hdf5\n",
      "\n",
      "Epoch 00002: val_loss improved from 0.18437 to 0.13536, saving model to ./data/model\\MNIST_MLP.hdf5\n",
      "\n",
      "Epoch 00003: val_loss improved from 0.13536 to 0.11412, saving model to ./data/model\\MNIST_MLP.hdf5\n",
      "\n",
      "Epoch 00004: val_loss improved from 0.11412 to 0.10130, saving model to ./data/model\\MNIST_MLP.hdf5\n",
      "\n",
      "Epoch 00005: val_loss improved from 0.10130 to 0.09132, saving model to ./data/model\\MNIST_MLP.hdf5\n",
      "\n",
      "Epoch 00006: val_loss improved from 0.09132 to 0.09067, saving model to ./data/model\\MNIST_MLP.hdf5\n",
      "\n",
      "Epoch 00007: val_loss improved from 0.09067 to 0.08214, saving model to ./data/model\\MNIST_MLP.hdf5\n",
      "\n",
      "Epoch 00008: val_loss did not improve from 0.08214\n",
      "\n",
      "Epoch 00009: val_loss improved from 0.08214 to 0.08186, saving model to ./data/model\\MNIST_MLP.hdf5\n",
      "\n",
      "Epoch 00010: val_loss improved from 0.08186 to 0.08177, saving model to ./data/model\\MNIST_MLP.hdf5\n",
      "\n",
      "Epoch 00011: val_loss improved from 0.08177 to 0.08103, saving model to ./data/model\\MNIST_MLP.hdf5\n",
      "\n",
      "Epoch 00012: val_loss did not improve from 0.08103\n",
      "\n",
      "Epoch 00013: val_loss did not improve from 0.08103\n",
      "\n",
      "Epoch 00014: val_loss improved from 0.08103 to 0.08040, saving model to ./data/model\\MNIST_MLP.hdf5\n",
      "\n",
      "Epoch 00015: val_loss did not improve from 0.08040\n"
     ]
    }
   ],
   "source": [
    "from tensorflow.keras.models import Sequential\n",
    "from tensorflow.keras.layers import Dense\n",
    "from tensorflow.keras.callbacks import ModelCheckpoint, EarlyStopping\n",
    "\n",
    "model = Sequential()\n",
    "model.add(Dense(512, input_dim=28*28, activation='relu'))\n",
    "model.add(Dense(10, activation='softmax'))\n",
    "model.compile(loss='categorical_crossentropy', optimizer='adam', metrics=['accuracy'])\n",
    "\n",
    "# 모델 최적화를 위한 설정\n",
    "model_path= './data/model/MNIST_MLP.hdf5'\n",
    "checkpointer = ModelCheckpoint(filepath=model_path, monitor='val_loss', \n",
    "                               verbose=1, save_best_only=True)\n",
    "early_stopping = EarlyStopping(monitor='val_loss', patience=10)\n",
    "\n",
    "hist = model.fit(x_train, y_train, epochs=2000,\n",
    "                 validation_split=0.25, batch_size=200, verbose=0,\n",
    "                 callbacks=[early_stopping, checkpointer])\n",
    "\n",
    "# 테스트 정확도 출력\n",
    "print(\"Test accuracy : \", model.evaluate(x_test, y_test)[1])"
   ]
  },
  {
   "cell_type": "code",
   "execution_count": null,
   "metadata": {},
   "outputs": [],
   "source": [
    "# %load tensor.py\n",
    "# 딥러닝 모델 관련 모듈\n",
    "from tensorflow.keras.models import Sequential\n",
    "from tensorflow.keras.layers import Dense\n",
    "from tensorflow.keras.callbacks import ModelCheckpoint,EarlyStopping\n",
    "import matplotlib.pyplot as plt\n",
    "from tensorflow.keras.utils import to_categorical\n",
    "import numpy as np\n",
    "import pandas as pd"
   ]
  },
  {
   "cell_type": "code",
   "execution_count": null,
   "metadata": {},
   "outputs": [
    {
     "data": {
      "image/png": "[encoded data removed]",
      "text/plain": [
       "<Figure size 640x480 with 1 Axes>"
      ]
     },
     "metadata": {},
     "output_type": "display_data"
    }
   ],
   "source": [
    "# 실행된 결과를 그래프로 표현\n",
    "y_vloss= hist.history['val_loss'] # 검증된 자료의 오차\n",
    "y_loss= hist.history['loss'] # 학습셋의 오차\n",
    "\n",
    "x_len = np.arange(len(y_loss)) # x 축\n",
    "plt.plot(x_len,y_vloss,marker='.',c='red',label='Testset_loss')\n",
    "plt.plot(x_len,y_loss,marker='.',c='blue',label='Testset_loss')\n",
    "plt.legend()\n",
    "plt.grid()\n",
    "plt.xlabel('epoch')\n",
    "plt.ylabel('loss')\n",
    "plt.show()"
   ]
  },
  {
   "cell_type": "code",
   "execution_count": null,
   "metadata": {},
   "outputs": [],
   "source": []
  }
 ],
 "metadata": {
  "kernelspec": {
   "display_name": "py3.7",
   "language": "python",
   "name": "python3"
  },
  "language_info": {
   "codemirror_mode": {
    "name": "ipython",
    "version": 3
   },
   "file_extension": ".py",
   "mimetype": "text/x-python",
   "name": "python",
   "nbconvert_exporter": "python",
   "pygments_lexer": "ipython3",
   "version": "3.8.16"
  },
  "orig_nbformat": 4
 },
 "nbformat": 4,
 "nbformat_minor": 2
}
